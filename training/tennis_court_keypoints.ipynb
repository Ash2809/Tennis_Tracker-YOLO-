{
 "cells": [
  {
   "cell_type": "code",
   "execution_count": 37,
   "metadata": {},
   "outputs": [],
   "source": [
    "import torch\n",
    "from torch.utils.data import DataLoader,Dataset\n",
    "from torchvision import models, transforms\n",
    "import cv2\n",
    "import json\n",
    "import numpy as np"
   ]
  },
  {
   "cell_type": "code",
   "execution_count": 38,
   "metadata": {},
   "outputs": [],
   "source": [
    "device = torch.device(\"cuda\" if torch.cuda.is_available() else \"cpu\")"
   ]
  },
  {
   "cell_type": "code",
   "execution_count": 39,
   "metadata": {},
   "outputs": [],
   "source": [
    "class KeyPointsDataset(Dataset):\n",
    "    def __init__(self, img_dir, data_file):\n",
    "        self.img_dir = img_dir\n",
    "        with open(data_file, \"r\") as f:\n",
    "            self.data = json.load(f)\n",
    "        \n",
    "        self.transforms = transforms.Compose([\n",
    "            transforms.ToPILImage(),\n",
    "            transforms.Resize((224, 224)),\n",
    "            transforms.ToTensor(),\n",
    "            transforms.Normalize(mean=[0.485, 0.456, 0.406], std=[0.229, 0.224, 0.225])\n",
    "        ])\n",
    "    \n",
    "    def __len__(self):\n",
    "        return len(self.data)\n",
    "    \n",
    "    def __getitem__(self, idx):\n",
    "        item = self.data[idx]\n",
    "        img = cv2.imread(f\"{self.img_dir}/{item['id']}.png\")\n",
    "        h, w = img.shape[:2]\n",
    "\n",
    "        img = cv2.cvtColor(img, cv2.COLOR_BGR2RGB)\n",
    "        img = self.transforms(img)\n",
    "        kps = np.array(item['kps']).flatten()\n",
    "        kps = kps.astype(np.float32)\n",
    "\n",
    "        kps[::2] *= 224.0 / w \n",
    "        kps[1::2] *= 224.0 / h \n",
    "\n",
    "        return img, kps"
   ]
  },
  {
   "cell_type": "code",
   "execution_count": 40,
   "metadata": {},
   "outputs": [],
   "source": [
    "train_dataset = KeyPointsDataset(r\"C:\\Users\\aashutosh kumar\\OneDrive\\Pictures\\data\\images\",r\"C:\\Users\\aashutosh kumar\\OneDrive\\Pictures\\data\\data_train.json\")\n",
    "val_dataset = KeyPointsDataset(r\"C:\\Users\\aashutosh kumar\\OneDrive\\Pictures\\data\\images\",r\"C:\\Users\\aashutosh kumar\\OneDrive\\Pictures\\data\\data_train.json\")\n",
    "\n",
    "train_loader = DataLoader(train_dataset, batch_size=8, shuffle=True)\n",
    "val_loader = DataLoader(val_dataset, batch_size=8, shuffle=True)"
   ]
  },
  {
   "cell_type": "code",
   "execution_count": 41,
   "metadata": {},
   "outputs": [
    {
     "name": "stderr",
     "output_type": "stream",
     "text": [
      "c:\\a\\envs\\torch_env\\lib\\site-packages\\torchvision\\models\\_utils.py:208: UserWarning: The parameter 'pretrained' is deprecated since 0.13 and may be removed in the future, please use 'weights' instead.\n",
      "  warnings.warn(\n",
      "c:\\a\\envs\\torch_env\\lib\\site-packages\\torchvision\\models\\_utils.py:223: UserWarning: Arguments other than a weight enum or `None` for 'weights' are deprecated since 0.13 and may be removed in the future. The current behavior is equivalent to passing `weights=ResNet50_Weights.IMAGENET1K_V1`. You can also use `weights=ResNet50_Weights.DEFAULT` to get the most up-to-date weights.\n",
      "  warnings.warn(msg)\n"
     ]
    }
   ],
   "source": [
    "model = models.resnet50(pretrained=True)\n",
    "model.fc =  torch.nn.Linear(model.fc.in_features, 14*2)"
   ]
  },
  {
   "cell_type": "code",
   "execution_count": 42,
   "metadata": {},
   "outputs": [],
   "source": [
    "model = model.to(device)"
   ]
  },
  {
   "cell_type": "code",
   "execution_count": 43,
   "metadata": {},
   "outputs": [],
   "source": [
    "criterion = torch.nn.MSELoss()\n",
    "optimizer = torch.optim.Adam(model.parameters(), lr=1e-4)"
   ]
  },
  {
   "cell_type": "code",
   "execution_count": 44,
   "metadata": {},
   "outputs": [
    {
     "name": "stdout",
     "output_type": "stream",
     "text": [
      "Epoch 0, iter 0, loss: 14906.279296875\n",
      "Epoch 0, iter 100, loss: 10794.3349609375\n",
      "Epoch 0, iter 200, loss: 7149.91650390625\n",
      "Epoch 0, iter 300, loss: 5043.7724609375\n",
      "Epoch 0, iter 400, loss: 2961.211181640625\n",
      "Epoch 0, iter 500, loss: 2009.10107421875\n",
      "Epoch 0, iter 600, loss: 982.9390869140625\n",
      "Epoch 0, iter 700, loss: 557.607177734375\n",
      "Epoch 0, iter 800, loss: 270.8610534667969\n",
      "Epoch 1, iter 0, loss: 311.3451843261719\n",
      "Epoch 1, iter 100, loss: 121.4499740600586\n",
      "Epoch 1, iter 200, loss: 63.66838836669922\n",
      "Epoch 1, iter 300, loss: 60.92205047607422\n",
      "Epoch 1, iter 400, loss: 63.991214752197266\n",
      "Epoch 1, iter 500, loss: 37.45306396484375\n",
      "Epoch 1, iter 600, loss: 32.99452590942383\n",
      "Epoch 1, iter 700, loss: 44.997318267822266\n",
      "Epoch 1, iter 800, loss: 23.03718376159668\n",
      "Epoch 2, iter 0, loss: 15.127215385437012\n",
      "Epoch 2, iter 100, loss: 17.711627960205078\n",
      "Epoch 2, iter 200, loss: 23.396812438964844\n",
      "Epoch 2, iter 300, loss: 20.0445499420166\n",
      "Epoch 2, iter 400, loss: 24.645822525024414\n",
      "Epoch 2, iter 500, loss: 23.469087600708008\n",
      "Epoch 2, iter 600, loss: 16.867637634277344\n",
      "Epoch 2, iter 700, loss: 11.76933765411377\n",
      "Epoch 2, iter 800, loss: 31.561847686767578\n",
      "Epoch 3, iter 0, loss: 51.70915985107422\n",
      "Epoch 3, iter 100, loss: 32.71733856201172\n",
      "Epoch 3, iter 200, loss: 10.748209953308105\n",
      "Epoch 3, iter 300, loss: 21.635303497314453\n",
      "Epoch 3, iter 400, loss: 23.872568130493164\n",
      "Epoch 3, iter 500, loss: 15.376072883605957\n",
      "Epoch 3, iter 600, loss: 13.394824028015137\n",
      "Epoch 3, iter 700, loss: 12.513382911682129\n",
      "Epoch 3, iter 800, loss: 20.71687126159668\n",
      "Epoch 4, iter 0, loss: 7.269703388214111\n",
      "Epoch 4, iter 100, loss: 13.963272094726562\n",
      "Epoch 4, iter 200, loss: 9.342241287231445\n",
      "Epoch 4, iter 300, loss: 17.13092613220215\n",
      "Epoch 4, iter 400, loss: 11.067900657653809\n",
      "Epoch 4, iter 500, loss: 5.336764812469482\n",
      "Epoch 4, iter 600, loss: 19.7745361328125\n",
      "Epoch 4, iter 700, loss: 38.02510452270508\n",
      "Epoch 4, iter 800, loss: 10.30756950378418\n",
      "Epoch 5, iter 0, loss: 9.134201049804688\n",
      "Epoch 5, iter 100, loss: 4.356390476226807\n",
      "Epoch 5, iter 200, loss: 7.350460052490234\n",
      "Epoch 5, iter 300, loss: 20.554542541503906\n",
      "Epoch 5, iter 400, loss: 19.514352798461914\n",
      "Epoch 5, iter 500, loss: 9.282597541809082\n",
      "Epoch 5, iter 600, loss: 2.415844678878784\n",
      "Epoch 5, iter 700, loss: 20.746910095214844\n",
      "Epoch 5, iter 800, loss: 4.796994209289551\n",
      "Epoch 6, iter 0, loss: 18.470911026000977\n",
      "Epoch 6, iter 100, loss: 8.140764236450195\n",
      "Epoch 6, iter 200, loss: 7.467002868652344\n",
      "Epoch 6, iter 300, loss: 4.797019958496094\n",
      "Epoch 6, iter 400, loss: 2.99991512298584\n",
      "Epoch 6, iter 500, loss: 9.136775016784668\n",
      "Epoch 6, iter 600, loss: 3.762737989425659\n",
      "Epoch 6, iter 700, loss: 3.5688295364379883\n",
      "Epoch 6, iter 800, loss: 4.772494792938232\n",
      "Epoch 7, iter 0, loss: 5.370323657989502\n",
      "Epoch 7, iter 100, loss: 14.213386535644531\n",
      "Epoch 7, iter 200, loss: 2.5637271404266357\n",
      "Epoch 7, iter 300, loss: 5.997014045715332\n",
      "Epoch 7, iter 400, loss: 11.07641887664795\n",
      "Epoch 7, iter 500, loss: 6.084712505340576\n",
      "Epoch 7, iter 600, loss: 2.7550442218780518\n",
      "Epoch 7, iter 700, loss: 10.701571464538574\n",
      "Epoch 7, iter 800, loss: 3.5817959308624268\n",
      "Epoch 8, iter 0, loss: 2.1152524948120117\n",
      "Epoch 8, iter 100, loss: 6.72443962097168\n",
      "Epoch 8, iter 200, loss: 8.080930709838867\n",
      "Epoch 8, iter 300, loss: 2.823998212814331\n",
      "Epoch 8, iter 400, loss: 5.381030082702637\n",
      "Epoch 8, iter 500, loss: 1.9929208755493164\n",
      "Epoch 8, iter 600, loss: 8.757625579833984\n",
      "Epoch 8, iter 700, loss: 1.1195056438446045\n",
      "Epoch 8, iter 800, loss: 2.7032320499420166\n",
      "Epoch 9, iter 0, loss: 1.6872284412384033\n",
      "Epoch 9, iter 100, loss: 6.464371681213379\n",
      "Epoch 9, iter 200, loss: 73.91484069824219\n",
      "Epoch 9, iter 300, loss: 8.47014045715332\n",
      "Epoch 9, iter 400, loss: 3.1032824516296387\n",
      "Epoch 9, iter 500, loss: 2.7901406288146973\n",
      "Epoch 9, iter 600, loss: 1.5182839632034302\n",
      "Epoch 9, iter 700, loss: 2.920832633972168\n",
      "Epoch 9, iter 800, loss: 3.342625856399536\n",
      "Epoch 10, iter 0, loss: 9.949495315551758\n"
     ]
    }
   ],
   "source": [
    "epochs=20\n",
    "for epoch in range(epochs):\n",
    "    for i, (imgs,kps) in enumerate(train_loader):\n",
    "        imgs = imgs.to(device)\n",
    "        kps = kps.to(device)\n",
    "\n",
    "        optimizer.zero_grad()\n",
    "        outputs = model(imgs)\n",
    "        loss = criterion(outputs, kps)\n",
    "        loss.backward()\n",
    "        optimizer.step()\n",
    "\n",
    "        if i % 100 == 0:\n",
    "            print(f\"Epoch {epoch}, iter {i}, loss: {loss.item()}\")"
   ]
  },
  {
   "cell_type": "code",
   "execution_count": null,
   "metadata": {},
   "outputs": [],
   "source": []
  }
 ],
 "metadata": {
  "kernelspec": {
   "display_name": "torch_env",
   "language": "python",
   "name": "python3"
  },
  "language_info": {
   "codemirror_mode": {
    "name": "ipython",
    "version": 3
   },
   "file_extension": ".py",
   "mimetype": "text/x-python",
   "name": "python",
   "nbconvert_exporter": "python",
   "pygments_lexer": "ipython3",
   "version": "3.10.14"
  }
 },
 "nbformat": 4,
 "nbformat_minor": 2
}
